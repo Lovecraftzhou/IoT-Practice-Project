{
 "cells": [
  {
   "cell_type": "code",
   "execution_count": 1,
   "metadata": {
    "collapsed": true,
    "ExecuteTime": {
     "end_time": "2024-04-30T16:41:06.865644100Z",
     "start_time": "2024-04-30T16:41:04.679113200Z"
    }
   },
   "outputs": [],
   "source": [
    "import tensorflow as tf\n",
    "from tensorflow import keras\n",
    "from tensorflow.keras import layers\n",
    "import pandas as pd\n",
    "import numpy as np\n",
    "import matplotlib.pyplot as plt\n",
    "import redis\n"
   ]
  },
  {
   "cell_type": "code",
   "execution_count": 2,
   "outputs": [],
   "source": [
    "r = redis.Redis(host='127.0.0.1', port=6379, db=0)  # 根据你的配置调整"
   ],
   "metadata": {
    "collapsed": false,
    "ExecuteTime": {
     "end_time": "2024-04-30T16:41:06.881644100Z",
     "start_time": "2024-04-30T16:41:06.865644100Z"
    }
   }
  },
  {
   "cell_type": "code",
   "execution_count": 3,
   "outputs": [
    {
     "data": {
      "text/plain": "[{b'Temperature': b'29.0',\n  b'Humidity': b'47.0',\n  b'Datetime': b'2024-04-27 23:34:39'},\n {b'Temperature': b'29.0',\n  b'Humidity': b'43.0',\n  b'Datetime': b'2024-04-27 23:34:43'},\n {b'Temperature': b'29.0',\n  b'Humidity': b'58.0',\n  b'Datetime': b'2024-04-27 23:34:45'},\n {b'Temperature': b'29.0',\n  b'Humidity': b'63.0',\n  b'Datetime': b'2024-04-27 23:34:48'},\n {b'Temperature': b'34',\n  b'Humidity': b'50.0',\n  b'Datetime': b'2024-04-27 23:34:51'},\n {b'Temperature': b'28.0',\n  b'Humidity': b'49.0',\n  b'Datetime': b'2024-04-27 23:34:53'}]"
     },
     "execution_count": 3,
     "metadata": {},
     "output_type": "execute_result"
    }
   ],
   "source": [
    "hash_list = r.keys('*')\n",
    "# 哈希表中可能有多个字段，我们只获取温度和湿度\n",
    "data_points = [r.hgetall(i) for i in hash_list]\n",
    "sorted_hash_list = sorted(data_points, key=lambda x: x[b'Datetime'])\n",
    "sorted_hash_list[:6]"
   ],
   "metadata": {
    "collapsed": false,
    "ExecuteTime": {
     "end_time": "2024-04-30T16:41:06.913644200Z",
     "start_time": "2024-04-30T16:41:06.882644200Z"
    }
   }
  },
  {
   "cell_type": "code",
   "execution_count": 4,
   "outputs": [],
   "source": [
    "temperature = [float(dp[b'Temperature']) for dp in sorted_hash_list[:6]]\n",
    "humidity = [float(dp[b'Humidity']) for dp in sorted_hash_list[:6]]"
   ],
   "metadata": {
    "collapsed": false,
    "ExecuteTime": {
     "end_time": "2024-04-30T16:41:06.958894Z",
     "start_time": "2024-04-30T16:41:06.915644Z"
    }
   }
  },
  {
   "cell_type": "code",
   "execution_count": 5,
   "outputs": [
    {
     "data": {
      "text/plain": "   Temperature  Humidity\n0         29.0      47.0\n1         29.0      43.0\n2         29.0      58.0\n3         29.0      63.0\n4         34.0      50.0\n5         28.0      49.0",
      "text/html": "<div>\n<style scoped>\n    .dataframe tbody tr th:only-of-type {\n        vertical-align: middle;\n    }\n\n    .dataframe tbody tr th {\n        vertical-align: top;\n    }\n\n    .dataframe thead th {\n        text-align: right;\n    }\n</style>\n<table border=\"1\" class=\"dataframe\">\n  <thead>\n    <tr style=\"text-align: right;\">\n      <th></th>\n      <th>Temperature</th>\n      <th>Humidity</th>\n    </tr>\n  </thead>\n  <tbody>\n    <tr>\n      <th>0</th>\n      <td>29.0</td>\n      <td>47.0</td>\n    </tr>\n    <tr>\n      <th>1</th>\n      <td>29.0</td>\n      <td>43.0</td>\n    </tr>\n    <tr>\n      <th>2</th>\n      <td>29.0</td>\n      <td>58.0</td>\n    </tr>\n    <tr>\n      <th>3</th>\n      <td>29.0</td>\n      <td>63.0</td>\n    </tr>\n    <tr>\n      <th>4</th>\n      <td>34.0</td>\n      <td>50.0</td>\n    </tr>\n    <tr>\n      <th>5</th>\n      <td>28.0</td>\n      <td>49.0</td>\n    </tr>\n  </tbody>\n</table>\n</div>"
     },
     "execution_count": 5,
     "metadata": {},
     "output_type": "execute_result"
    }
   ],
   "source": [
    "df = pd.DataFrame({\n",
    "    'Temperature': temperature,\n",
    "    'Humidity': humidity\n",
    "})\n",
    "df"
   ],
   "metadata": {
    "collapsed": false,
    "ExecuteTime": {
     "end_time": "2024-04-30T16:41:06.966342800Z",
     "start_time": "2024-04-30T16:41:06.930647300Z"
    }
   }
  },
  {
   "cell_type": "code",
   "execution_count": 6,
   "outputs": [],
   "source": [
    "# data_mean = new_df[:].mean(axis=0)\n",
    "# data_std = new_df[:].std(axis=0)\n",
    "# features = (new_df - data_mean) / data_std"
   ],
   "metadata": {
    "collapsed": false,
    "ExecuteTime": {
     "end_time": "2024-04-30T16:41:06.966342800Z",
     "start_time": "2024-04-30T16:41:06.958894Z"
    }
   }
  },
  {
   "cell_type": "code",
   "execution_count": 7,
   "outputs": [
    {
     "data": {
      "text/plain": "array([[-0.3380617 , -0.68889496],\n       [-0.3380617 , -1.27937636],\n       [-0.3380617 ,  0.93492888],\n       [-0.3380617 ,  1.67303063],\n       [ 2.19740106, -0.24603392],\n       [-0.84515425, -0.39365427]])"
     },
     "execution_count": 7,
     "metadata": {},
     "output_type": "execute_result"
    }
   ],
   "source": [
    "features = df\n",
    "dataset = features.values\n",
    "data_mean = dataset.mean(axis=0)\n",
    "data_std = dataset.std(axis=0)\n",
    "\n",
    "dataset = (dataset-data_mean)/data_std\n",
    "dataset"
   ],
   "metadata": {
    "collapsed": false,
    "ExecuteTime": {
     "end_time": "2024-04-30T16:41:06.975761700Z",
     "start_time": "2024-04-30T16:41:06.961326800Z"
    }
   }
  },
  {
   "cell_type": "code",
   "execution_count": 8,
   "outputs": [],
   "source": [
    "data = dataset.reshape(6, 2, 1, 1)"
   ],
   "metadata": {
    "collapsed": false,
    "ExecuteTime": {
     "end_time": "2024-04-30T16:41:07.007121600Z",
     "start_time": "2024-04-30T16:41:06.976767100Z"
    }
   }
  },
  {
   "cell_type": "code",
   "execution_count": 9,
   "outputs": [
    {
     "data": {
      "text/plain": "(6, 2, 1, 1)"
     },
     "execution_count": 9,
     "metadata": {},
     "output_type": "execute_result"
    }
   ],
   "source": [
    "data.shape"
   ],
   "metadata": {
    "collapsed": false,
    "ExecuteTime": {
     "end_time": "2024-04-30T16:41:07.036855800Z",
     "start_time": "2024-04-30T16:41:06.992765900Z"
    }
   }
  },
  {
   "cell_type": "code",
   "execution_count": 10,
   "outputs": [
    {
     "data": {
      "text/plain": "array([[[[-0.3380617 ]],\n\n        [[-0.68889496]]],\n\n\n       [[[-0.3380617 ]],\n\n        [[-1.27937636]]],\n\n\n       [[[-0.3380617 ]],\n\n        [[ 0.93492888]]],\n\n\n       [[[-0.3380617 ]],\n\n        [[ 1.67303063]]],\n\n\n       [[[ 2.19740106]],\n\n        [[-0.24603392]]],\n\n\n       [[[-0.84515425]],\n\n        [[-0.39365427]]]])"
     },
     "execution_count": 10,
     "metadata": {},
     "output_type": "execute_result"
    }
   ],
   "source": [
    "data"
   ],
   "metadata": {
    "collapsed": false,
    "ExecuteTime": {
     "end_time": "2024-04-30T16:41:07.066857900Z",
     "start_time": "2024-04-30T16:41:07.008121300Z"
    }
   }
  },
  {
   "cell_type": "code",
   "execution_count": 11,
   "outputs": [],
   "source": [
    "data = data[np.newaxis,:,:,:,:]"
   ],
   "metadata": {
    "collapsed": false,
    "ExecuteTime": {
     "end_time": "2024-04-30T16:41:07.115929400Z",
     "start_time": "2024-04-30T16:41:07.036855800Z"
    }
   }
  },
  {
   "cell_type": "code",
   "execution_count": 12,
   "outputs": [
    {
     "data": {
      "text/plain": "(1, 6, 2, 1, 1)"
     },
     "execution_count": 12,
     "metadata": {},
     "output_type": "execute_result"
    }
   ],
   "source": [
    "data.shape"
   ],
   "metadata": {
    "collapsed": false,
    "ExecuteTime": {
     "end_time": "2024-04-30T16:41:07.130879100Z",
     "start_time": "2024-04-30T16:41:07.038848200Z"
    }
   }
  },
  {
   "cell_type": "code",
   "execution_count": 25,
   "outputs": [
    {
     "name": "stdout",
     "output_type": "stream",
     "text": [
      "Model: \"sequential_2\"\n",
      "_________________________________________________________________\n",
      "Layer (type)                 Output Shape              Param #   \n",
      "=================================================================\n",
      "batch_norm_0 (BatchNormaliza (None, 6, 2, 1, 1)        4         \n",
      "_________________________________________________________________\n",
      "conv_lstm_1 (ConvLSTM2D)     (None, 6, 2, 1, 64)       166656    \n",
      "_________________________________________________________________\n",
      "dropout_1 (Dropout)          (None, 6, 2, 1, 64)       0         \n",
      "_________________________________________________________________\n",
      "batch_norm_1 (BatchNormaliza (None, 6, 2, 1, 64)       256       \n",
      "_________________________________________________________________\n",
      "conv_lstm_2 (ConvLSTM2D)     (None, 2, 1, 64)          164096    \n",
      "_________________________________________________________________\n",
      "dropout_2 (Dropout)          (None, 2, 1, 64)          0         \n",
      "_________________________________________________________________\n",
      "batch_norm_2 (BatchNormaliza (None, 2, 1, 64)          256       \n",
      "_________________________________________________________________\n",
      "flatten_2 (Flatten)          (None, 128)               0         \n",
      "_________________________________________________________________\n",
      "repeat_vector_2 (RepeatVecto (None, 6, 128)            0         \n",
      "_________________________________________________________________\n",
      "reshape_2 (Reshape)          (None, 6, 2, 1, 64)       0         \n",
      "_________________________________________________________________\n",
      "conv_lstm_3 (ConvLSTM2D)     (None, 6, 2, 1, 64)       327936    \n",
      "_________________________________________________________________\n",
      "dropout_3 (Dropout)          (None, 6, 2, 1, 64)       0         \n",
      "_________________________________________________________________\n",
      "batch_norm_3 (BatchNormaliza (None, 6, 2, 1, 64)       256       \n",
      "_________________________________________________________________\n",
      "conv_lstm_4 (ConvLSTM2D)     (None, 6, 2, 1, 64)       164096    \n",
      "_________________________________________________________________\n",
      "time_distributed_2 (TimeDist (None, 6, 2, 1, 1)        65        \n",
      "_________________________________________________________________\n",
      "dense_2 (Dense)              (None, 6, 2, 1, 1)        2         \n",
      "=================================================================\n",
      "Total params: 823,623\n",
      "Trainable params: 823,237\n",
      "Non-trainable params: 386\n",
      "_________________________________________________________________\n"
     ]
    }
   ],
   "source": [
    "from tensorflow.python.keras.models import load_model\n",
    "\n",
    "# load the checkpoint\n",
    "checkpoint = tf.keras.models.load_model('./model/best_cnnLSTM2.h5')\n",
    "checkpoint.summary()"
   ],
   "metadata": {
    "collapsed": false,
    "ExecuteTime": {
     "end_time": "2024-04-30T16:58:30.220459100Z",
     "start_time": "2024-04-30T16:58:29.970268500Z"
    }
   }
  },
  {
   "cell_type": "code",
   "execution_count": 14,
   "outputs": [
    {
     "data": {
      "text/plain": "(1, 6, 2, 1, 1)"
     },
     "execution_count": 14,
     "metadata": {},
     "output_type": "execute_result"
    }
   ],
   "source": [
    "r = checkpoint.predict(data)\n",
    "r.shape"
   ],
   "metadata": {
    "collapsed": false,
    "ExecuteTime": {
     "end_time": "2024-04-30T16:41:07.780022800Z",
     "start_time": "2024-04-30T16:41:07.451440900Z"
    }
   }
  },
  {
   "cell_type": "code",
   "execution_count": 15,
   "outputs": [
    {
     "data": {
      "text/plain": "array([[ 2.3583794, -2.3738747],\n       [ 2.2822847, -2.3575895],\n       [ 2.2757096, -2.3364222],\n       [ 2.1916008, -2.3415563],\n       [ 2.160973 , -2.3377287],\n       [ 2.151291 , -2.3274646]], dtype=float32)"
     },
     "execution_count": 15,
     "metadata": {},
     "output_type": "execute_result"
    }
   ],
   "source": [
    "res_data = np.squeeze(r)\n",
    "res_data"
   ],
   "metadata": {
    "collapsed": false,
    "ExecuteTime": {
     "end_time": "2024-04-30T16:41:07.796021800Z",
     "start_time": "2024-04-30T16:41:07.781021200Z"
    }
   }
  },
  {
   "cell_type": "code",
   "execution_count": 16,
   "outputs": [],
   "source": [
    "true_data = res_data*data_std + data_mean"
   ],
   "metadata": {
    "collapsed": false,
    "ExecuteTime": {
     "end_time": "2024-04-30T16:41:07.841725500Z",
     "start_time": "2024-04-30T16:41:07.797021800Z"
    }
   }
  },
  {
   "cell_type": "code",
   "execution_count": 17,
   "outputs": [],
   "source": [
    "from datetime import datetime, timedelta\n",
    "# 获取当前时间\n",
    "current_time = datetime.now()\n",
    "\n",
    "# 生成6个间隔为10分钟的时间列表\n",
    "time_list = [current_time + timedelta(minutes=10 * i) for i in range(6)]\n",
    "\n",
    "def multi_step_output_plot(array, prediction):\n",
    "    plt.figure(figsize=(18, 6))\n",
    "\n",
    "    for i, (var, c) in enumerate(zip(features.columns[:2], ['b','r'])):\n",
    "        if prediction.any():\n",
    "            print(np.array(prediction[:,i]))\n",
    "            print(var.title())\n",
    "            plt.plot(array, np.array(prediction[:,i]), markersize=5, alpha=0.5,\n",
    "                     label=f\"Predicted {var.title()}\")\n",
    "\n",
    "    plt.legend(loc='upper left')\n",
    "    plt.show()"
   ],
   "metadata": {
    "collapsed": false,
    "ExecuteTime": {
     "end_time": "2024-04-30T16:41:07.849716600Z",
     "start_time": "2024-04-30T16:41:07.814024Z"
    }
   }
  },
  {
   "cell_type": "code",
   "execution_count": 18,
   "outputs": [
    {
     "name": "stdout",
     "output_type": "stream",
     "text": [
      "[34.31745349 34.16739286 34.15442658 33.98856173 33.92816303 33.90906952]\n",
      "Temperature\n",
      "[35.58572204 35.69604004 35.83943001 35.80465089 35.83057938 35.90011016]\n",
      "Humidity\n"
     ]
    },
    {
     "data": {
      "text/plain": "<Figure size 1800x600 with 1 Axes>",
      "image/png": "[encoded data removed]"
     },
     "metadata": {},
     "output_type": "display_data"
    }
   ],
   "source": [
    "multi_step_output_plot(time_list, true_data)"
   ],
   "metadata": {
    "collapsed": false,
    "ExecuteTime": {
     "end_time": "2024-04-30T16:41:07.924742500Z",
     "start_time": "2024-04-30T16:41:07.828212100Z"
    }
   }
  },
  {
   "cell_type": "code",
   "execution_count": 23,
   "outputs": [
    {
     "data": {
      "text/plain": "array([[34.31745349, 35.58572204],\n       [34.16739286, 35.69604004],\n       [34.15442658, 35.83943001],\n       [33.98856173, 35.80465089],\n       [33.92816303, 35.83057938],\n       [33.90906952, 35.90011016]])"
     },
     "execution_count": 23,
     "metadata": {},
     "output_type": "execute_result"
    }
   ],
   "source": [
    "true_data"
   ],
   "metadata": {
    "collapsed": false,
    "ExecuteTime": {
     "end_time": "2024-04-30T16:42:45.701580800Z",
     "start_time": "2024-04-30T16:42:45.689570400Z"
    }
   }
  },
  {
   "cell_type": "code",
   "execution_count": 24,
   "outputs": [
    {
     "data": {
      "text/plain": "[35.58572204018866,\n 35.696040035726924,\n 35.83943001127597,\n 35.80465089238393,\n 35.83057937639493,\n 35.90011015782993]"
     },
     "execution_count": 24,
     "metadata": {},
     "output_type": "execute_result"
    }
   ],
   "source": [
    "np.array(true_data[:,1]).tolist()"
   ],
   "metadata": {
    "collapsed": false,
    "ExecuteTime": {
     "end_time": "2024-04-30T16:42:58.845385100Z",
     "start_time": "2024-04-30T16:42:58.840385300Z"
    }
   }
  },
  {
   "cell_type": "code",
   "execution_count": null,
   "outputs": [],
   "source": [],
   "metadata": {
    "collapsed": false
   }
  }
 ],
 "metadata": {
  "kernelspec": {
   "display_name": "Python 3",
   "language": "python",
   "name": "python3"
  },
  "language_info": {
   "codemirror_mode": {
    "name": "ipython",
    "version": 2
   },
   "file_extension": ".py",
   "mimetype": "text/x-python",
   "name": "python",
   "nbconvert_exporter": "python",
   "pygments_lexer": "ipython2",
   "version": "2.7.6"
  }
 },
 "nbformat": 4,
 "nbformat_minor": 0
}
